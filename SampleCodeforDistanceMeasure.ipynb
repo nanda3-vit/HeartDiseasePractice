{
  "nbformat": 4,
  "nbformat_minor": 0,
  "metadata": {
    "colab": {
      "name": "SampleCodeforDistanceMeasure.ipynb",
      "provenance": [],
      "toc_visible": true,
      "authorship_tag": "ABX9TyNx6md1QUTv8ZsLMKl53lrw",
      "include_colab_link": true
    },
    "kernelspec": {
      "name": "python3",
      "display_name": "Python 3"
    }
  },
  "cells": [
    {
      "cell_type": "markdown",
      "metadata": {
        "id": "view-in-github",
        "colab_type": "text"
      },
      "source": [
        "<a href=\"https://colab.research.google.com/github/nanda3-vit/HeartDiseasePractice/blob/main/SampleCodeforDistanceMeasure.ipynb\" target=\"_parent\"><img src=\"https://colab.research.google.com/assets/colab-badge.svg\" alt=\"Open In Colab\"/></a>"
      ]
    },
    {
      "cell_type": "markdown",
      "metadata": {
        "id": "62PTKtqJpKhl"
      },
      "source": [
        "**HAMMING DISTANCE**"
      ]
    },
    {
      "cell_type": "markdown",
      "metadata": {
        "id": "hb7SZKkCl5hH"
      },
      "source": [
        "Hamming code is a set of error-correction codes that can be used to detect and correct the errors that can occur when the data is moved or stored from the sender to the receiver. It is a technique developed by R.W. Hamming for error correction.\r\n",
        "\r\n",
        "---\r\n",
        "\r\n"
      ]
    },
    {
      "cell_type": "markdown",
      "metadata": {
        "id": "ebeV5mLNkHLZ"
      },
      "source": [
        "***Sample Code for Hamming Distance Concept***"
      ]
    },
    {
      "cell_type": "code",
      "metadata": {
        "colab": {
          "base_uri": "https://localhost:8080/"
        },
        "id": "yz7N9_PBki24",
        "outputId": "c4fae31d-0268-4971-e3ad-f1acc8a28e63"
      },
      "source": [
        "pip install hamming"
      ],
      "execution_count": 8,
      "outputs": [
        {
          "output_type": "stream",
          "text": [
            "Collecting hamming\n",
            "  Downloading https://files.pythonhosted.org/packages/3e/60/e912871c34dd7aaf583f459c8125332bf708623fdf46d1db0830513dd7dd/hamming-0.0.4.tar.gz\n",
            "Building wheels for collected packages: hamming\n",
            "  Building wheel for hamming (setup.py) ... \u001b[?25l\u001b[?25hdone\n",
            "  Created wheel for hamming: filename=hamming-0.0.4-cp37-none-any.whl size=3175 sha256=88e8f7d5137b9308db31de0fdb82398e41dc6d579e0fd2c9c8cb0db781c6e5f9\n",
            "  Stored in directory: /root/.cache/pip/wheels/75/83/ed/096b4b55ec4eb8bd8f02d0c0fac61f2430221ac453890d9ef8\n",
            "Successfully built hamming\n",
            "Installing collected packages: hamming\n",
            "Successfully installed hamming-0.0.4\n"
          ],
          "name": "stdout"
        }
      ]
    },
    {
      "cell_type": "code",
      "metadata": {
        "colab": {
          "base_uri": "https://localhost:8080/"
        },
        "id": "sef7CIHQmRIX",
        "outputId": "054c48b4-c63f-4f7a-b9d3-29e6755caa14"
      },
      "source": [
        "# Python program to dmeonstrate \r\n",
        "# hamming code \r\n",
        "  \r\n",
        "  \r\n",
        "def calcRedundantBits(m): \r\n",
        "  \r\n",
        "    # Use the formula 2 ^ r >= m + r + 1 \r\n",
        "    # to calculate the no of redundant bits. \r\n",
        "    # Iterate over 0 .. m and return the value \r\n",
        "    # that satisfies the equation \r\n",
        "  \r\n",
        "    for i in range(m): \r\n",
        "        if(2**i >= m + i + 1): \r\n",
        "            return i \r\n",
        "  \r\n",
        "  \r\n",
        "def posRedundantBits(data, r): \r\n",
        "  \r\n",
        "    # Redundancy bits are placed at the positions \r\n",
        "    # which correspond to the power of 2. \r\n",
        "    j = 0\r\n",
        "    k = 1\r\n",
        "    m = len(data) \r\n",
        "    res = '' \r\n",
        "  \r\n",
        "    # If position is power of 2 then insert '0' \r\n",
        "    # Else append the data \r\n",
        "    for i in range(1, m + r+1): \r\n",
        "        if(i == 2**j): \r\n",
        "            res = res + '0'\r\n",
        "            j += 1\r\n",
        "        else: \r\n",
        "            res = res + data[-1 * k] \r\n",
        "            k += 1\r\n",
        "  \r\n",
        "    # The result is reversed since positions are \r\n",
        "    # counted backwards. (m + r+1 ... 1) \r\n",
        "    return res[::-1] \r\n",
        "  \r\n",
        "  \r\n",
        "def calcParityBits(arr, r): \r\n",
        "    n = len(arr) \r\n",
        "  \r\n",
        "    # For finding rth parity bit, iterate over \r\n",
        "    # 0 to r - 1 \r\n",
        "    for i in range(r): \r\n",
        "        val = 0\r\n",
        "        for j in range(1, n + 1): \r\n",
        "  \r\n",
        "            # If position has 1 in ith significant \r\n",
        "            # position then Bitwise OR the array value \r\n",
        "            # to find parity bit value. \r\n",
        "            if(j & (2**i) == (2**i)): \r\n",
        "                val = val ^ int(arr[-1 * j]) \r\n",
        "                # -1 * j is given since array is reversed \r\n",
        "  \r\n",
        "        # String Concatenation \r\n",
        "        # (0 to n - 2^r) + parity bit + (n - 2^r + 1 to n) \r\n",
        "        arr = arr[:n-(2**i)] + str(val) + arr[n-(2**i)+1:] \r\n",
        "    return arr \r\n",
        "  \r\n",
        "  \r\n",
        "def detectError(arr, nr): \r\n",
        "    n = len(arr) \r\n",
        "    res = 0\r\n",
        "  \r\n",
        "    # Calculate parity bits again \r\n",
        "    for i in range(nr): \r\n",
        "        val = 0\r\n",
        "        for j in range(1, n + 1): \r\n",
        "            if(j & (2**i) == (2**i)): \r\n",
        "                val = val ^ int(arr[-1 * j]) \r\n",
        "  \r\n",
        "        # Create a binary no by appending \r\n",
        "        # parity bits together. \r\n",
        "  \r\n",
        "        res = res + val*(10**i) \r\n",
        "  \r\n",
        "    # Convert binary to decimal \r\n",
        "    return int(str(res), 2) \r\n",
        "  \r\n",
        "  \r\n",
        "# Enter the data to be transmitted \r\n",
        "data = '1011001'\r\n",
        "  \r\n",
        "# Calculate the no of Redundant Bits Required \r\n",
        "m = len(data) \r\n",
        "r = calcRedundantBits(m) \r\n",
        "  \r\n",
        "# Determine the positions of Redundant Bits \r\n",
        "arr = posRedundantBits(data, r) \r\n",
        "  \r\n",
        "# Determine the parity bits \r\n",
        "arr = calcParityBits(arr, r) \r\n",
        "  \r\n",
        "# Data to be transferred \r\n",
        "print(\"Data transferred is \" + arr)   \r\n",
        "  \r\n",
        "# Stimulate error in transmission by changing \r\n",
        "# a bit value. \r\n",
        "# 10101001110 -> 11101001110, error in 10th position. \r\n",
        "  \r\n",
        "arr = '11101001110'\r\n",
        "print(\"Error Data is \" + arr) \r\n",
        "correction = detectError(arr, r) \r\n",
        "print(\"The position of error is \" + str(correction)) "
      ],
      "execution_count": 18,
      "outputs": [
        {
          "output_type": "stream",
          "text": [
            "Data transferred is 10101001110\n",
            "Error Data is 11101001110\n",
            "The position of error is 10\n"
          ],
          "name": "stdout"
        }
      ]
    },
    {
      "cell_type": "markdown",
      "metadata": {
        "id": "Rd9PiOsanO1P"
      },
      "source": [
        "**MANHATTAN DISTANCE**"
      ]
    },
    {
      "cell_type": "markdown",
      "metadata": {
        "id": "6eBGmi4jnS6X"
      },
      "source": [
        "Manhattan distance is a metric in which the distance between two points is calculated as the sum of the absolute differences of their Cartesian coordinates. In a simple way of saying it is the total sum of the difference between the x-coordinates and y-coordinates.\r\n",
        "\r\n",
        "---\r\n",
        "\r\n",
        "\r\n",
        "\r\n",
        "\r\n"
      ]
    },
    {
      "cell_type": "markdown",
      "metadata": {
        "id": "5L37u-BgrNYp"
      },
      "source": [
        "***Sample Code for Manhattan Distance Concept***"
      ]
    },
    {
      "cell_type": "code",
      "metadata": {
        "colab": {
          "base_uri": "https://localhost:8080/"
        },
        "id": "omhzAm52nSd_",
        "outputId": "3d1c0861-ee87-4132-cb81-ccd094dc7fff"
      },
      "source": [
        "# Python3 code to find sum of \r\n",
        "# Manhattan distance between all \r\n",
        "# the pairs of given points\r\n",
        " \r\n",
        "# Return the sum of distance \r\n",
        "# between all the pair of points.\r\n",
        "def distancesum (x, y, n):\r\n",
        "    sum = 0\r\n",
        "     \r\n",
        "    # for each point, finding distance\r\n",
        "    # to rest of the point\r\n",
        "    for i in range(n):\r\n",
        "        for j in range(i+1,n):\r\n",
        "            sum += (abs(x[i] - x[j]) +\r\n",
        "                        abs(y[i] - y[j]))\r\n",
        "     \r\n",
        "    return sum\r\n",
        " \r\n",
        "# Driven Code\r\n",
        "x = [ -1, 1, 3, 2 ]\r\n",
        "y = [ 5, 6, 5, 3 ]\r\n",
        "n = len(x)\r\n",
        "print(distancesum(x, y, n) )"
      ],
      "execution_count": 19,
      "outputs": [
        {
          "output_type": "stream",
          "text": [
            "22\n"
          ],
          "name": "stdout"
        }
      ]
    },
    {
      "cell_type": "markdown",
      "metadata": {
        "id": "uRNjdj-Mo9Ue"
      },
      "source": [
        "**CLUSTERING**"
      ]
    },
    {
      "cell_type": "markdown",
      "metadata": {
        "id": "wM30Yw1epDEg"
      },
      "source": [
        "# Clustering is a set of techniques used to partition data into groups, or clusters. Clusters are loosely defined as groups of data objects that are more similar to other objects in their cluster than they are to data objects in other clusters."
      ]
    },
    {
      "cell_type": "markdown",
      "metadata": {
        "id": "4wmbItbqoMWv"
      },
      "source": [
        "**K-Means Clustering**"
      ]
    },
    {
      "cell_type": "markdown",
      "metadata": {
        "id": "BgNVkpGkoYOP"
      },
      "source": [
        "The k-means clustering method is an unsupervised machine learning technique used to identify clusters of data objects in a dataset. There are many different types of clustering methods, but k-means is one of the oldest and most approachable. \r\n",
        "\r\n",
        "---\r\n",
        "\r\n"
      ]
    },
    {
      "cell_type": "markdown",
      "metadata": {
        "id": "DCTRNnUFrAPI"
      },
      "source": [
        "***Sample Code for K-Means Clustering Concept***"
      ]
    },
    {
      "cell_type": "code",
      "metadata": {
        "id": "OKal2PzvpGZP"
      },
      "source": [
        "#import libraries\r\n",
        "import pandas as pd\r\n",
        "import numpy as np\r\n",
        "import random as rd\r\n",
        "import matplotlib.pyplot as plt"
      ],
      "execution_count": 22,
      "outputs": []
    },
    {
      "cell_type": "code",
      "metadata": {
        "colab": {
          "base_uri": "https://localhost:8080/",
          "height": 249
        },
        "id": "oV3mWZ_wp90A",
        "outputId": "6f652a06-c6db-4ae7-813a-e739b2d4e9ec"
      },
      "source": [
        "data = pd.read_csv('/content/sample_data/clustering.csv')\r\n",
        "data.head()"
      ],
      "execution_count": 23,
      "outputs": [
        {
          "output_type": "execute_result",
          "data": {
            "text/html": [
              "<div>\n",
              "<style scoped>\n",
              "    .dataframe tbody tr th:only-of-type {\n",
              "        vertical-align: middle;\n",
              "    }\n",
              "\n",
              "    .dataframe tbody tr th {\n",
              "        vertical-align: top;\n",
              "    }\n",
              "\n",
              "    .dataframe thead th {\n",
              "        text-align: right;\n",
              "    }\n",
              "</style>\n",
              "<table border=\"1\" class=\"dataframe\">\n",
              "  <thead>\n",
              "    <tr style=\"text-align: right;\">\n",
              "      <th></th>\n",
              "      <th>Loan_ID</th>\n",
              "      <th>Gender</th>\n",
              "      <th>Married</th>\n",
              "      <th>Dependents</th>\n",
              "      <th>Education</th>\n",
              "      <th>Self_Employed</th>\n",
              "      <th>ApplicantIncome</th>\n",
              "      <th>CoapplicantIncome</th>\n",
              "      <th>LoanAmount</th>\n",
              "      <th>Loan_Amount_Term</th>\n",
              "      <th>Credit_History</th>\n",
              "      <th>Property_Area</th>\n",
              "      <th>Loan_Status</th>\n",
              "    </tr>\n",
              "  </thead>\n",
              "  <tbody>\n",
              "    <tr>\n",
              "      <th>0</th>\n",
              "      <td>LP001003</td>\n",
              "      <td>Male</td>\n",
              "      <td>Yes</td>\n",
              "      <td>1</td>\n",
              "      <td>Graduate</td>\n",
              "      <td>No</td>\n",
              "      <td>4583</td>\n",
              "      <td>1508.0</td>\n",
              "      <td>128.0</td>\n",
              "      <td>360.0</td>\n",
              "      <td>1.0</td>\n",
              "      <td>Rural</td>\n",
              "      <td>N</td>\n",
              "    </tr>\n",
              "    <tr>\n",
              "      <th>1</th>\n",
              "      <td>LP001005</td>\n",
              "      <td>Male</td>\n",
              "      <td>Yes</td>\n",
              "      <td>0</td>\n",
              "      <td>Graduate</td>\n",
              "      <td>Yes</td>\n",
              "      <td>3000</td>\n",
              "      <td>0.0</td>\n",
              "      <td>66.0</td>\n",
              "      <td>360.0</td>\n",
              "      <td>1.0</td>\n",
              "      <td>Urban</td>\n",
              "      <td>Y</td>\n",
              "    </tr>\n",
              "    <tr>\n",
              "      <th>2</th>\n",
              "      <td>LP001006</td>\n",
              "      <td>Male</td>\n",
              "      <td>Yes</td>\n",
              "      <td>0</td>\n",
              "      <td>Not Graduate</td>\n",
              "      <td>No</td>\n",
              "      <td>2583</td>\n",
              "      <td>2358.0</td>\n",
              "      <td>120.0</td>\n",
              "      <td>360.0</td>\n",
              "      <td>1.0</td>\n",
              "      <td>Urban</td>\n",
              "      <td>Y</td>\n",
              "    </tr>\n",
              "    <tr>\n",
              "      <th>3</th>\n",
              "      <td>LP001008</td>\n",
              "      <td>Male</td>\n",
              "      <td>No</td>\n",
              "      <td>0</td>\n",
              "      <td>Graduate</td>\n",
              "      <td>No</td>\n",
              "      <td>6000</td>\n",
              "      <td>0.0</td>\n",
              "      <td>141.0</td>\n",
              "      <td>360.0</td>\n",
              "      <td>1.0</td>\n",
              "      <td>Urban</td>\n",
              "      <td>Y</td>\n",
              "    </tr>\n",
              "    <tr>\n",
              "      <th>4</th>\n",
              "      <td>LP001013</td>\n",
              "      <td>Male</td>\n",
              "      <td>Yes</td>\n",
              "      <td>0</td>\n",
              "      <td>Not Graduate</td>\n",
              "      <td>No</td>\n",
              "      <td>2333</td>\n",
              "      <td>1516.0</td>\n",
              "      <td>95.0</td>\n",
              "      <td>360.0</td>\n",
              "      <td>1.0</td>\n",
              "      <td>Urban</td>\n",
              "      <td>Y</td>\n",
              "    </tr>\n",
              "  </tbody>\n",
              "</table>\n",
              "</div>"
            ],
            "text/plain": [
              "    Loan_ID Gender Married  ... Credit_History Property_Area Loan_Status\n",
              "0  LP001003   Male     Yes  ...            1.0         Rural           N\n",
              "1  LP001005   Male     Yes  ...            1.0         Urban           Y\n",
              "2  LP001006   Male     Yes  ...            1.0         Urban           Y\n",
              "3  LP001008   Male      No  ...            1.0         Urban           Y\n",
              "4  LP001013   Male     Yes  ...            1.0         Urban           Y\n",
              "\n",
              "[5 rows x 13 columns]"
            ]
          },
          "metadata": {
            "tags": []
          },
          "execution_count": 23
        }
      ]
    },
    {
      "cell_type": "code",
      "metadata": {
        "colab": {
          "base_uri": "https://localhost:8080/",
          "height": 279
        },
        "id": "UIwYvoYTqfOH",
        "outputId": "87c3c9fd-447e-45d4-d68b-1479d1cf4fe8"
      },
      "source": [
        "X = data[[\"LoanAmount\",\"ApplicantIncome\"]]\r\n",
        "#Visualise data points\r\n",
        "plt.scatter(X[\"ApplicantIncome\"],X[\"LoanAmount\"],c='black')\r\n",
        "plt.xlabel('AnnualIncome')\r\n",
        "plt.ylabel('Loan Amount (In Thousands)')\r\n",
        "plt.show()"
      ],
      "execution_count": 24,
      "outputs": [
        {
          "output_type": "display_data",
          "data": {
            "image/png": "[encoded data removed]",
            "text/plain": [
              "<Figure size 432x288 with 1 Axes>"
            ]
          },
          "metadata": {
            "tags": [],
            "needs_background": "light"
          }
        }
      ]
    },
    {
      "cell_type": "code",
      "metadata": {
        "colab": {
          "base_uri": "https://localhost:8080/",
          "height": 279
        },
        "id": "S2osB_wKqjYY",
        "outputId": "5a7c3657-341d-43b9-dbc9-0e5a007d313b"
      },
      "source": [
        "# Step 1 and 2 - Choose the number of clusters (k) and select random centroid for each cluster\r\n",
        "\r\n",
        "#number of clusters\r\n",
        "K=3\r\n",
        "\r\n",
        "# Select random observation as centroids\r\n",
        "Centroids = (X.sample(n=K))\r\n",
        "plt.scatter(X[\"ApplicantIncome\"],X[\"LoanAmount\"],c='black')\r\n",
        "plt.scatter(Centroids[\"ApplicantIncome\"],Centroids[\"LoanAmount\"],c='red')\r\n",
        "plt.xlabel('AnnualIncome')\r\n",
        "plt.ylabel('Loan Amount (In Thousands)')\r\n",
        "plt.show()"
      ],
      "execution_count": 25,
      "outputs": [
        {
          "output_type": "display_data",
          "data": {
            "image/png": "[encoded data removed]",
            "text/plain": [
              "<Figure size 432x288 with 1 Axes>"
            ]
          },
          "metadata": {
            "tags": [],
            "needs_background": "light"
          }
        }
      ]
    },
    {
      "cell_type": "code",
      "metadata": {
        "colab": {
          "base_uri": "https://localhost:8080/"
        },
        "id": "ot0Su96SqmjQ",
        "outputId": "8f214a22-71d7-46a4-a9ad-953575caa30c"
      },
      "source": [
        "# Step 3 - Assign all the points to the closest cluster centroid\r\n",
        "# Step 4 - Recompute centroids of newly formed clusters\r\n",
        "# Step 5 - Repeat step 3 and 4\r\n",
        "\r\n",
        "diff = 1\r\n",
        "j=0\r\n",
        "\r\n",
        "while(diff!=0):\r\n",
        "    XD=X\r\n",
        "    i=1\r\n",
        "    for index1,row_c in Centroids.iterrows():\r\n",
        "        ED=[]\r\n",
        "        for index2,row_d in XD.iterrows():\r\n",
        "            d1=(row_c[\"ApplicantIncome\"]-row_d[\"ApplicantIncome\"])**2\r\n",
        "            d2=(row_c[\"LoanAmount\"]-row_d[\"LoanAmount\"])**2\r\n",
        "            d=np.sqrt(d1+d2)\r\n",
        "            ED.append(d)\r\n",
        "        X[i]=ED\r\n",
        "        i=i+1\r\n",
        "\r\n",
        "    C=[]\r\n",
        "    for index,row in X.iterrows():\r\n",
        "        min_dist=row[1]\r\n",
        "        pos=1\r\n",
        "        for i in range(K):\r\n",
        "            if row[i+1] < min_dist:\r\n",
        "                min_dist = row[i+1]\r\n",
        "                pos=i+1\r\n",
        "        C.append(pos)\r\n",
        "    X[\"Cluster\"]=C\r\n",
        "    Centroids_new = X.groupby([\"Cluster\"]).mean()[[\"LoanAmount\",\"ApplicantIncome\"]]\r\n",
        "    if j == 0:\r\n",
        "        diff=1\r\n",
        "        j=j+1\r\n",
        "    else:\r\n",
        "        diff = (Centroids_new['LoanAmount'] - Centroids['LoanAmount']).sum() + (Centroids_new['ApplicantIncome'] - Centroids['ApplicantIncome']).sum()\r\n",
        "        print(diff.sum())\r\n",
        "    Centroids = X.groupby([\"Cluster\"]).mean()[[\"LoanAmount\",\"ApplicantIncome\"]]\r\n"
      ],
      "execution_count": 26,
      "outputs": [
        {
          "output_type": "stream",
          "text": [
            "/usr/local/lib/python3.7/dist-packages/ipykernel_launcher.py:18: SettingWithCopyWarning: \n",
            "A value is trying to be set on a copy of a slice from a DataFrame.\n",
            "Try using .loc[row_indexer,col_indexer] = value instead\n",
            "\n",
            "See the caveats in the documentation: https://pandas.pydata.org/pandas-docs/stable/user_guide/indexing.html#returning-a-view-versus-a-copy\n",
            "/usr/local/lib/python3.7/dist-packages/ipykernel_launcher.py:30: SettingWithCopyWarning: \n",
            "A value is trying to be set on a copy of a slice from a DataFrame.\n",
            "Try using .loc[row_indexer,col_indexer] = value instead\n",
            "\n",
            "See the caveats in the documentation: https://pandas.pydata.org/pandas-docs/stable/user_guide/indexing.html#returning-a-view-versus-a-copy\n"
          ],
          "name": "stderr"
        },
        {
          "output_type": "stream",
          "text": [
            "157.3540954963552\n",
            "99.8005464658375\n",
            "134.2385608031846\n",
            "80.42253001270922\n",
            "99.50821192263949\n",
            "27.38200063816943\n",
            "18.274686272279013\n",
            "9.21023994083339\n",
            "18.345487493007468\n",
            "46.27013250786139\n",
            "0.0\n"
          ],
          "name": "stdout"
        }
      ]
    },
    {
      "cell_type": "code",
      "metadata": {
        "colab": {
          "base_uri": "https://localhost:8080/",
          "height": 279
        },
        "id": "T3A7Y05SqsS4",
        "outputId": "e8898f9a-415a-438d-d0b0-a3e3bb56ed75"
      },
      "source": [
        "color=['red','green','blue']\r\n",
        "for k in range(K):\r\n",
        "    data=X[X[\"Cluster\"]==k+1]\r\n",
        "    plt.scatter(data[\"ApplicantIncome\"],data[\"LoanAmount\"],c=color[k])\r\n",
        "plt.scatter(Centroids[\"ApplicantIncome\"],Centroids[\"LoanAmount\"],c='red')\r\n",
        "plt.xlabel('Income')\r\n",
        "plt.ylabel('Loan Amount (In Thousands)')\r\n",
        "plt.show()"
      ],
      "execution_count": 28,
      "outputs": [
        {
          "output_type": "display_data",
          "data": {
            "image/png": "[encoded data removed]",
            "text/plain": [
              "<Figure size 432x288 with 1 Axes>"
            ]
          },
          "metadata": {
            "tags": [],
            "needs_background": "light"
          }
        }
      ]
    },
    {
      "cell_type": "code",
      "metadata": {
        "id": "ucThSDgAqz7i"
      },
      "source": [
        ""
      ],
      "execution_count": null,
      "outputs": []
    }
  ]
}